{
  "nbformat": 4,
  "nbformat_minor": 0,
  "metadata": {
    "colab": {
      "provenance": [],
      "authorship_tag": "ABX9TyNYzP/BsHNud0GkYAcPS6Aa",
      "include_colab_link": true
    },
    "kernelspec": {
      "name": "python3",
      "display_name": "Python 3"
    },
    "language_info": {
      "name": "python"
    }
  },
  "cells": [
    {
      "cell_type": "markdown",
      "metadata": {
        "id": "view-in-github",
        "colab_type": "text"
      },
      "source": [
        "<a href=\"https://colab.research.google.com/github/san2003/AI_wine_analizator/blob/main/Conversor_de_CSV_para_tabelas.ipynb\" target=\"_parent\"><img src=\"https://colab.research.google.com/assets/colab-badge.svg\" alt=\"Open In Colab\"/></a>"
      ]
    },
    {
      "cell_type": "markdown",
      "source": [
        "# 🔷 Conversor de Arquivos CSV para Excel 🔷\n",
        "\n",
        "Bem-vindo! Este assistente irá guiá-lo para converter um arquivo `.csv` do seu computador em um arquivo `.xlsx` (Excel) que você poderá baixar.\n",
        "\n",
        "**Como usar:**\n",
        "1.  **Rode cada célula de código:** Para executar uma célula, clique no ícone de \"Play\" (▶️) à esquerda da célula ou selecione a célula e pressione `Shift + Enter` no seu teclado.\n",
        "2.  **Siga as instruções:** Os cards de instrução (como este) irão explicar o que fazer a seguir.\n",
        "\n",
        "Vamos começar! Role para baixo para a primeira etapa.\n"
      ],
      "metadata": {
        "id": "Dfv6xZwTx9DZ"
      }
    },
    {
      "cell_type": "markdown",
      "source": [
        "---\n",
        "### **▶️ Etapa 1: Fazer o Upload do Arquivo CSV**\n",
        "\n",
        "Chegou a hora de enviar seu arquivo.\n",
        "\n",
        "**Instrução:** Rode a célula de código abaixo. Ao executá-la, um botão \"Escolher arquivos\" aparecerá. Clique nele e selecione o arquivo `.csv` que você deseja converter do seu computador.\n",
        "\n",
        "Aguarde até que a mensagem \"Upload concluído!\" seja exibida antes de prosseguir.\n"
      ],
      "metadata": {
        "id": "1t4VG7pVx5FF"
      }
    },
    {
      "cell_type": "code",
      "execution_count": 2,
      "metadata": {
        "colab": {
          "base_uri": "https://localhost:8080/",
          "height": 125
        },
        "id": "fvB0ma4Pw4GM",
        "outputId": "ed3287a4-63fb-4761-f30d-a69f5f98eb2f"
      },
      "outputs": [
        {
          "output_type": "stream",
          "name": "stdout",
          "text": [
            "Clique no botão abaixo para selecionar seu arquivo .csv\n"
          ]
        },
        {
          "output_type": "display_data",
          "data": {
            "text/plain": [
              "<IPython.core.display.HTML object>"
            ],
            "text/html": [
              "\n",
              "     <input type=\"file\" id=\"files-97f666e9-5f71-4032-bf08-1883c10356e6\" name=\"files[]\" multiple disabled\n",
              "        style=\"border:none\" />\n",
              "     <output id=\"result-97f666e9-5f71-4032-bf08-1883c10356e6\">\n",
              "      Upload widget is only available when the cell has been executed in the\n",
              "      current browser session. Please rerun this cell to enable.\n",
              "      </output>\n",
              "      <script>// Copyright 2017 Google LLC\n",
              "//\n",
              "// Licensed under the Apache License, Version 2.0 (the \"License\");\n",
              "// you may not use this file except in compliance with the License.\n",
              "// You may obtain a copy of the License at\n",
              "//\n",
              "//      http://www.apache.org/licenses/LICENSE-2.0\n",
              "//\n",
              "// Unless required by applicable law or agreed to in writing, software\n",
              "// distributed under the License is distributed on an \"AS IS\" BASIS,\n",
              "// WITHOUT WARRANTIES OR CONDITIONS OF ANY KIND, either express or implied.\n",
              "// See the License for the specific language governing permissions and\n",
              "// limitations under the License.\n",
              "\n",
              "/**\n",
              " * @fileoverview Helpers for google.colab Python module.\n",
              " */\n",
              "(function(scope) {\n",
              "function span(text, styleAttributes = {}) {\n",
              "  const element = document.createElement('span');\n",
              "  element.textContent = text;\n",
              "  for (const key of Object.keys(styleAttributes)) {\n",
              "    element.style[key] = styleAttributes[key];\n",
              "  }\n",
              "  return element;\n",
              "}\n",
              "\n",
              "// Max number of bytes which will be uploaded at a time.\n",
              "const MAX_PAYLOAD_SIZE = 100 * 1024;\n",
              "\n",
              "function _uploadFiles(inputId, outputId) {\n",
              "  const steps = uploadFilesStep(inputId, outputId);\n",
              "  const outputElement = document.getElementById(outputId);\n",
              "  // Cache steps on the outputElement to make it available for the next call\n",
              "  // to uploadFilesContinue from Python.\n",
              "  outputElement.steps = steps;\n",
              "\n",
              "  return _uploadFilesContinue(outputId);\n",
              "}\n",
              "\n",
              "// This is roughly an async generator (not supported in the browser yet),\n",
              "// where there are multiple asynchronous steps and the Python side is going\n",
              "// to poll for completion of each step.\n",
              "// This uses a Promise to block the python side on completion of each step,\n",
              "// then passes the result of the previous step as the input to the next step.\n",
              "function _uploadFilesContinue(outputId) {\n",
              "  const outputElement = document.getElementById(outputId);\n",
              "  const steps = outputElement.steps;\n",
              "\n",
              "  const next = steps.next(outputElement.lastPromiseValue);\n",
              "  return Promise.resolve(next.value.promise).then((value) => {\n",
              "    // Cache the last promise value to make it available to the next\n",
              "    // step of the generator.\n",
              "    outputElement.lastPromiseValue = value;\n",
              "    return next.value.response;\n",
              "  });\n",
              "}\n",
              "\n",
              "/**\n",
              " * Generator function which is called between each async step of the upload\n",
              " * process.\n",
              " * @param {string} inputId Element ID of the input file picker element.\n",
              " * @param {string} outputId Element ID of the output display.\n",
              " * @return {!Iterable<!Object>} Iterable of next steps.\n",
              " */\n",
              "function* uploadFilesStep(inputId, outputId) {\n",
              "  const inputElement = document.getElementById(inputId);\n",
              "  inputElement.disabled = false;\n",
              "\n",
              "  const outputElement = document.getElementById(outputId);\n",
              "  outputElement.innerHTML = '';\n",
              "\n",
              "  const pickedPromise = new Promise((resolve) => {\n",
              "    inputElement.addEventListener('change', (e) => {\n",
              "      resolve(e.target.files);\n",
              "    });\n",
              "  });\n",
              "\n",
              "  const cancel = document.createElement('button');\n",
              "  inputElement.parentElement.appendChild(cancel);\n",
              "  cancel.textContent = 'Cancel upload';\n",
              "  const cancelPromise = new Promise((resolve) => {\n",
              "    cancel.onclick = () => {\n",
              "      resolve(null);\n",
              "    };\n",
              "  });\n",
              "\n",
              "  // Wait for the user to pick the files.\n",
              "  const files = yield {\n",
              "    promise: Promise.race([pickedPromise, cancelPromise]),\n",
              "    response: {\n",
              "      action: 'starting',\n",
              "    }\n",
              "  };\n",
              "\n",
              "  cancel.remove();\n",
              "\n",
              "  // Disable the input element since further picks are not allowed.\n",
              "  inputElement.disabled = true;\n",
              "\n",
              "  if (!files) {\n",
              "    return {\n",
              "      response: {\n",
              "        action: 'complete',\n",
              "      }\n",
              "    };\n",
              "  }\n",
              "\n",
              "  for (const file of files) {\n",
              "    const li = document.createElement('li');\n",
              "    li.append(span(file.name, {fontWeight: 'bold'}));\n",
              "    li.append(span(\n",
              "        `(${file.type || 'n/a'}) - ${file.size} bytes, ` +\n",
              "        `last modified: ${\n",
              "            file.lastModifiedDate ? file.lastModifiedDate.toLocaleDateString() :\n",
              "                                    'n/a'} - `));\n",
              "    const percent = span('0% done');\n",
              "    li.appendChild(percent);\n",
              "\n",
              "    outputElement.appendChild(li);\n",
              "\n",
              "    const fileDataPromise = new Promise((resolve) => {\n",
              "      const reader = new FileReader();\n",
              "      reader.onload = (e) => {\n",
              "        resolve(e.target.result);\n",
              "      };\n",
              "      reader.readAsArrayBuffer(file);\n",
              "    });\n",
              "    // Wait for the data to be ready.\n",
              "    let fileData = yield {\n",
              "      promise: fileDataPromise,\n",
              "      response: {\n",
              "        action: 'continue',\n",
              "      }\n",
              "    };\n",
              "\n",
              "    // Use a chunked sending to avoid message size limits. See b/62115660.\n",
              "    let position = 0;\n",
              "    do {\n",
              "      const length = Math.min(fileData.byteLength - position, MAX_PAYLOAD_SIZE);\n",
              "      const chunk = new Uint8Array(fileData, position, length);\n",
              "      position += length;\n",
              "\n",
              "      const base64 = btoa(String.fromCharCode.apply(null, chunk));\n",
              "      yield {\n",
              "        response: {\n",
              "          action: 'append',\n",
              "          file: file.name,\n",
              "          data: base64,\n",
              "        },\n",
              "      };\n",
              "\n",
              "      let percentDone = fileData.byteLength === 0 ?\n",
              "          100 :\n",
              "          Math.round((position / fileData.byteLength) * 100);\n",
              "      percent.textContent = `${percentDone}% done`;\n",
              "\n",
              "    } while (position < fileData.byteLength);\n",
              "  }\n",
              "\n",
              "  // All done.\n",
              "  yield {\n",
              "    response: {\n",
              "      action: 'complete',\n",
              "    }\n",
              "  };\n",
              "}\n",
              "\n",
              "scope.google = scope.google || {};\n",
              "scope.google.colab = scope.google.colab || {};\n",
              "scope.google.colab._files = {\n",
              "  _uploadFiles,\n",
              "  _uploadFilesContinue,\n",
              "};\n",
              "})(self);\n",
              "</script> "
            ]
          },
          "metadata": {}
        },
        {
          "output_type": "stream",
          "name": "stdout",
          "text": [
            "Saving DEHASHED-search-1750874640058.csv to DEHASHED-search-1750874640058.csv\n",
            "\n",
            "✅ Upload concluído! O arquivo 'DEHASHED-search-1750874640058.csv' foi carregado com sucesso.\n"
          ]
        }
      ],
      "source": [
        "# Importa as bibliotecas necessárias\n",
        "import pandas as pd\n",
        "from google.colab import files\n",
        "import io\n",
        "\n",
        "# Pede para o usuário fazer o upload do arquivo\n",
        "print(\"Clique no botão abaixo para selecionar seu arquivo .csv\")\n",
        "uploaded = files.upload()\n",
        "\n",
        "# Verifica se algum arquivo foi enviado e armazena o nome dele\n",
        "if len(uploaded.keys()) > 0:\n",
        "  nome_do_arquivo_csv = next(iter(uploaded))\n",
        "  print(f\"\\n✅ Upload concluído! O arquivo '{nome_do_arquivo_csv}' foi carregado com sucesso.\")\n",
        "else:\n",
        "  nome_do_arquivo_csv = None\n",
        "  print(\"\\n⚠️ Nenhum arquivo foi enviado. Rode esta célula novamente para tentar de novo.\")\n"
      ]
    },
    {
      "cell_type": "markdown",
      "source": [
        "---\n",
        "### **⚙️ Etapa 2: Converter e Baixar o Arquivo Excel**\n",
        "\n",
        "Ótimo! Agora que o arquivo CSV está no ambiente, vamos convertê-lo.\n",
        "\n",
        "**Instrução:** Rode a célula de código abaixo. Ela irá ler o arquivo que você enviou, convertê-lo para o formato Excel (`.xlsx`) e iniciar o download automaticamente no seu navegador.\n",
        "\n",
        "O nome do arquivo Excel será o mesmo do original, mas com a extensão trocada."
      ],
      "metadata": {
        "id": "DYTW2XThyUqM"
      }
    },
    {
      "cell_type": "code",
      "source": [
        "# Verifica se um nome de arquivo foi armazenado na etapa anterior\n",
        "if nome_do_arquivo_csv:\n",
        "  try:\n",
        "    print(f\"Lendo o arquivo '{nome_do_arquivo_csv}'...\")\n",
        "    # Lê o arquivo CSV enviado para um dataframe do pandas\n",
        "    # O conteúdo do arquivo está em 'uploaded[nome_do_arquivo_csv]'\n",
        "    df = pd.read_csv(io.BytesIO(uploaded[nome_do_arquivo_csv]))\n",
        "\n",
        "    # Define o nome do arquivo de saída (Excel)\n",
        "    nome_do_arquivo_excel = nome_do_arquivo_csv.split('.')[0] + '.xlsx'\n",
        "\n",
        "    print(f\"Convertendo para Excel... O nome do arquivo será '{nome_do_arquivo_excel}'\")\n",
        "    # Converte o dataframe para um arquivo Excel em memória\n",
        "    # O argumento index=False evita que o índice do dataframe seja salvo como uma coluna no Excel\n",
        "    df.to_excel(nome_do_arquivo_excel, index=False)\n",
        "\n",
        "    print(\"\\n⬇️ Conversão finalizada! Iniciando o download...\")\n",
        "    # Força o download do arquivo gerado\n",
        "    files.download(nome_do_arquivo_excel)\n",
        "\n",
        "  except Exception as e:\n",
        "    print(f\"\\n❌ Ocorreu um erro! Verifique se o arquivo enviado é um CSV válido.\")\n",
        "    print(f\"Detalhe do erro: {e}\")\n",
        "else:\n",
        "  print(\"\\n⚠️ Nenhum arquivo CSV foi carregado. Por favor, rode a Célula da Etapa 1 primeiro.\")"
      ],
      "metadata": {
        "colab": {
          "base_uri": "https://localhost:8080/",
          "height": 86
        },
        "id": "pjSjcT2ayXMr",
        "outputId": "5607234f-2b89-44f9-d488-9dac109b5fe5"
      },
      "execution_count": 3,
      "outputs": [
        {
          "output_type": "stream",
          "name": "stdout",
          "text": [
            "Lendo o arquivo 'DEHASHED-search-1750874640058.csv'...\n",
            "Convertendo para Excel... O nome do arquivo será 'DEHASHED-search-1750874640058.xlsx'\n",
            "\n",
            "⬇️ Conversão finalizada! Iniciando o download...\n"
          ]
        },
        {
          "output_type": "display_data",
          "data": {
            "text/plain": [
              "<IPython.core.display.Javascript object>"
            ],
            "application/javascript": [
              "\n",
              "    async function download(id, filename, size) {\n",
              "      if (!google.colab.kernel.accessAllowed) {\n",
              "        return;\n",
              "      }\n",
              "      const div = document.createElement('div');\n",
              "      const label = document.createElement('label');\n",
              "      label.textContent = `Downloading \"${filename}\": `;\n",
              "      div.appendChild(label);\n",
              "      const progress = document.createElement('progress');\n",
              "      progress.max = size;\n",
              "      div.appendChild(progress);\n",
              "      document.body.appendChild(div);\n",
              "\n",
              "      const buffers = [];\n",
              "      let downloaded = 0;\n",
              "\n",
              "      const channel = await google.colab.kernel.comms.open(id);\n",
              "      // Send a message to notify the kernel that we're ready.\n",
              "      channel.send({})\n",
              "\n",
              "      for await (const message of channel.messages) {\n",
              "        // Send a message to notify the kernel that we're ready.\n",
              "        channel.send({})\n",
              "        if (message.buffers) {\n",
              "          for (const buffer of message.buffers) {\n",
              "            buffers.push(buffer);\n",
              "            downloaded += buffer.byteLength;\n",
              "            progress.value = downloaded;\n",
              "          }\n",
              "        }\n",
              "      }\n",
              "      const blob = new Blob(buffers, {type: 'application/binary'});\n",
              "      const a = document.createElement('a');\n",
              "      a.href = window.URL.createObjectURL(blob);\n",
              "      a.download = filename;\n",
              "      div.appendChild(a);\n",
              "      a.click();\n",
              "      div.remove();\n",
              "    }\n",
              "  "
            ]
          },
          "metadata": {}
        },
        {
          "output_type": "display_data",
          "data": {
            "text/plain": [
              "<IPython.core.display.Javascript object>"
            ],
            "application/javascript": [
              "download(\"download_569ae2c5-364f-4a89-802f-5ab135828a21\", \"DEHASHED-search-1750874640058.xlsx\", 6548)"
            ]
          },
          "metadata": {}
        }
      ]
    },
    {
      "cell_type": "markdown",
      "source": [
        "---\n",
        "### **✅ Processo Concluído!**\n",
        "\n",
        "Se tudo correu bem, o download do seu arquivo Excel já deve ter começado ou sido concluído.\n",
        "\n",
        "Você pode rodar este notebook novamente sempre que precisar converter outro arquivo CSV."
      ],
      "metadata": {
        "id": "Do0OctL2ycZJ"
      }
    }
  ]
}